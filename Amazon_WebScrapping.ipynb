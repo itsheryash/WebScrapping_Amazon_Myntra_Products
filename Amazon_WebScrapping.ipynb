{
 "cells": [
  {
   "cell_type": "code",
   "execution_count": 1,
   "id": "853ce0f0",
   "metadata": {},
   "outputs": [],
   "source": [
    "import pandas as pd\n",
    "import selenium\n",
    "import requests\n",
    "from selenium import webdriver\n",
    "from bs4 import BeautifulSoup\n",
    "import time\n",
    "import warnings\n",
    "warnings.filterwarnings(\"ignore\")"
   ]
  },
  {
   "cell_type": "code",
   "execution_count": 2,
   "id": "af7423f6",
   "metadata": {},
   "outputs": [],
   "source": [
    "def get_amazon_url(x):\n",
    "    x=x.replace(\" \",\"+\")\n",
    "    template=\"https://www.amazon.in/s?k={}&crid=2YO34STXS8CY4&sprefix={}%2Caps%2C374&ref=nb_sb_noss_1\"\n",
    "    url=template.format(x,x)\n",
    "    return url"
   ]
  },
  {
   "cell_type": "code",
   "execution_count": 3,
   "id": "7be160be",
   "metadata": {},
   "outputs": [],
   "source": [
    "def product_info(product):\n",
    "    try:\n",
    "        productDesc=product.find(\"span\",\"a-size-base-plus a-color-base a-text-normal\").text\n",
    "    except Exception as e:\n",
    "        productDesc=\"Not Mentioned\"\n",
    "        \n",
    "    try:\n",
    "        productPrice=product.find(\"span\",\"a-price-whole\").text\n",
    "        productPrice=productPrice.replace(\"₹\",\"\")\n",
    "        productPrice=productPrice.replace(\",\",\"\")\n",
    "    except Exception as e:\n",
    "        productPrice=\"Not Mentioned\"\n",
    "\n",
    "    try:\n",
    "        productName=product.find(\"span\",\"a-size-base-plus a-color-base\").text\n",
    "    except Exception as e:\n",
    "        productName=\"Not Mentioned\"\n",
    "        \n",
    "    try:\n",
    "        productImg=product.find(\"img\",\"s-image\")\n",
    "        productImg=productImg[\"src\"]\n",
    "    except Exception as e:\n",
    "        productImg=\"Not Mentioned\"\n",
    "        \n",
    "    try:\n",
    "        productBuyLink=product.find(\"a\",\"a-link-normal s-no-outline\")\n",
    "        productBuyLink=\"https://amazon.in/\" + productBuyLink[\"href\"]\n",
    "    except Exception as e:\n",
    "        productBuyLink=\"Not Mentioned\"\n",
    "    \n",
    "#     try:\n",
    "#         product_description_rating=product.find(\"span\",\"a-icon-alt\").text\n",
    "#         product_description_rating=product_description_rating[0:3]\n",
    "#         print(product_description_rating)\n",
    "#     except Exception as e:\n",
    "#         product_description_rating=\"Not Mentioned\"\n",
    "    info=[productName,productPrice,productDesc,productImg,productBuyLink]\n",
    "    return info"
   ]
  },
  {
   "cell_type": "code",
   "execution_count": 4,
   "id": "6ac4451c",
   "metadata": {},
   "outputs": [],
   "source": [
    "def main(product_name):\n",
    "    link=get_amazon_url(product_name)\n",
    "    \n",
    "    driver=webdriver.Firefox()\n",
    "    driver.get(link)\n",
    "    \n",
    "    soup=BeautifulSoup(driver.page_source,\"html.parser\")\n",
    "    products=soup.find_all(\"div\",\"sg-col-4-of-24 sg-col-4-of-12 s-result-item s-asin sg-col-4-of-16 AdHolder sg-col s-widget-spacing-small sg-col-4-of-20\")\n",
    "    records=[]\n",
    "    \n",
    "    for every_product in products:\n",
    "        product_details=product_info(every_product)\n",
    "        records.append(product_details)\n",
    "   \n",
    "    col=[\"productName\",\"productPrice(INR)\",\"productDesc\",\"productImg\",\"productBuyLink\"]\n",
    "    dataset=pd.DataFrame(records,columns=col)\n",
    "    dataset[\"productPrice(INR)\"]=dataset[\"productPrice(INR)\"].astype(\"int\")\n",
    "    dataset=dataset.sort_values(by=\"productPrice(INR)\", ascending=False)\n",
    "    dataset.to_csv(\"E:\\Education\\language\\WebScrapping Project\\Amazon_product_details.csv\")\n",
    "    \n",
    "#     dataset=dataset.sort_values(by=\"product_sales_price(INR)\",ascending=True)\n",
    "#     for i in records[0]:\n",
    "#         print(i)"
   ]
  },
  {
   "cell_type": "code",
   "execution_count": 5,
   "id": "b0485c21",
   "metadata": {},
   "outputs": [],
   "source": [
    "main(\"Shoes Black\")"
   ]
  },
  {
   "cell_type": "code",
   "execution_count": null,
   "id": "042df673",
   "metadata": {},
   "outputs": [],
   "source": []
  },
  {
   "cell_type": "code",
   "execution_count": null,
   "id": "f90bf9fb",
   "metadata": {},
   "outputs": [],
   "source": []
  },
  {
   "cell_type": "code",
   "execution_count": null,
   "id": "7d4e4626",
   "metadata": {},
   "outputs": [],
   "source": []
  },
  {
   "cell_type": "code",
   "execution_count": null,
   "id": "665a007a",
   "metadata": {},
   "outputs": [],
   "source": []
  },
  {
   "cell_type": "code",
   "execution_count": null,
   "id": "6124d357",
   "metadata": {},
   "outputs": [],
   "source": []
  }
 ],
 "metadata": {
  "kernelspec": {
   "display_name": "Python 3 (ipykernel)",
   "language": "python",
   "name": "python3"
  },
  "language_info": {
   "codemirror_mode": {
    "name": "ipython",
    "version": 3
   },
   "file_extension": ".py",
   "mimetype": "text/x-python",
   "name": "python",
   "nbconvert_exporter": "python",
   "pygments_lexer": "ipython3",
   "version": "3.11.5"
  }
 },
 "nbformat": 4,
 "nbformat_minor": 5
}
