{
 "cells": [
  {
   "cell_type": "code",
   "execution_count": 1,
   "id": "85fbe4ef",
   "metadata": {},
   "outputs": [],
   "source": [
    "import pandas as pd\n",
    "import time\n",
    "from bs4 import BeautifulSoup\n",
    "from selenium import webdriver\n",
    "import warnings\n",
    "warnings.filterwarnings(\"ignore\")"
   ]
  },
  {
   "cell_type": "code",
   "execution_count": 2,
   "id": "ba996630",
   "metadata": {},
   "outputs": [],
   "source": [
    "def get_url(product):\n",
    "    p_1=product\n",
    "    p_1=p_1.replace(\" \",\"-\")  \n",
    "    p_2=product\n",
    "    p_2=p_2.replace(\" \",\"%20\") \n",
    "    template=\"https://www.myntra.com/{}?rawQuery={}\"\n",
    "    url=template.format(p_1,p_2)\n",
    "    return url"
   ]
  },
  {
   "cell_type": "code",
   "execution_count": 3,
   "id": "07ca5529",
   "metadata": {},
   "outputs": [],
   "source": [
    "def product_details(product):\n",
    "    try:\n",
    "        productDesc= product.find(\"h4\",\"product-product\").text\n",
    "    except Exception as e:\n",
    "        productDesc=\"Not Mentioned\"\n",
    "    try:\n",
    "        productName=product.find(\"h3\",\"product-brand\").text\n",
    "    except Exception as e:\n",
    "        productName=\"Not Mentioned\"\n",
    "        \n",
    "    try:\n",
    "        productPrice=product.find(\"span\",\"product-discountedPrice\").text\n",
    "        productPrice=productPrice.replace(\"Rs.\",\"\")\n",
    "#         product_sales_price=product_sales_price.replace(\",\",\"\")\n",
    "    except Exception as e:\n",
    "        productPrice=\"Not Mentioned\"\n",
    "\n",
    "    try:\n",
    "        productImg=product.find(\"img\",\"img-responsive\")\n",
    "        productImg=productImg[\"src\"]\n",
    "    except Exception as e:\n",
    "        productImg=\"Not Mentioned\"\n",
    "        \n",
    "    try:\n",
    "        productBuyLink=product.find(\"a\")\n",
    "        productBuyLink=\"https://myntra.com/\" + productBuyLink[\"href\"]\n",
    "    except Exception as e:\n",
    "        productBuyLink=\"Not Mentioned\"\n",
    "        \n",
    "    info=[productName,productPrice,productDesc,productImg,productBuyLink]\n",
    "    return info"
   ]
  },
  {
   "cell_type": "code",
   "execution_count": 4,
   "id": "b3b7b2a5",
   "metadata": {},
   "outputs": [],
   "source": [
    "def main(product_name):\n",
    "    link=get_url(product_name)\n",
    "    driver=webdriver.Firefox()\n",
    "    driver.get(link)\n",
    "    driver.maximize_window()\n",
    "    time.sleep(59)\n",
    "    \n",
    "    soup= BeautifulSoup(driver.page_source,\"html.parser\")\n",
    "    products=soup.find_all(\"li\",\"product-base\")\n",
    "    products\n",
    "    \n",
    "    records=[]\n",
    "    \n",
    "    for product in products:\n",
    "        product_info=product_details(product)\n",
    "        records.append(product_info)\n",
    "    \n",
    "    for i in records[0]:\n",
    "        print(i)\n",
    "        \n",
    "    print(\"\\n\")\n",
    "    \n",
    "    for i in records[1]:\n",
    "        print(i)\n",
    "    \n",
    "    col=[\"productName\",\"productPrice(INR)\",\"productDesc\",\"productImg\",\"productBuyLink\"]\n",
    "    dataset=pd.DataFrame(records,columns=col)\n",
    "    dataset[\"productPrice(INR)\"]=dataset[\"productPrice(INR)\"].astype(\"int\")\n",
    "    dataset=dataset.sort_values(by=\"productPrice(INR)\", ascending=False)\n",
    "    dataset.to_csv(\"E:\\Education\\language\\WebScrapping Project\\Myntra_product_details.csv\")"
   ]
  },
  {
   "cell_type": "code",
   "execution_count": 5,
   "id": "d138d9da",
   "metadata": {},
   "outputs": [
    {
     "name": "stdout",
     "output_type": "stream",
     "text": [
      "Red Tape\n",
      " 1079\n",
      "Men Colourblocked Sneakers\n",
      "https://assets.myntassets.com/dpr_2,q_60,w_210,c_limit,fl_progressive/assets/images/23837948/2023/7/1/d85bb274-a6df-4bee-875d-7dfc98a986581688199092946RedTapeMenBlackColourblockedSneakers1.jpg\n",
      "https://myntra.com/casual-shoes/red+tape/red-tape-men-colourblocked-contrast-sole-sneakers/23837948/buy\n",
      "\n",
      "\n",
      "Campus\n",
      " 1104\n",
      "Men Running Shoes\n",
      "https://assets.myntassets.com/dpr_2,q_60,w_210,c_limit,fl_progressive/assets/images/15465490/2022/7/21/f51e052e-dc84-4f1d-8aed-97371b4861881658381401685-Campus-Men-Black-Mesh-Running-Non-Marking-Shoes-751165838140-1.jpg\n",
      "https://myntra.com/sports-shoes/campus/campus-men-black-mesh-running-shoes/15465490/buy\n"
     ]
    }
   ],
   "source": [
    "main(\"Black Shoes\")"
   ]
  },
  {
   "cell_type": "code",
   "execution_count": null,
   "id": "39c1551e",
   "metadata": {},
   "outputs": [],
   "source": []
  },
  {
   "cell_type": "code",
   "execution_count": null,
   "id": "f46df354",
   "metadata": {},
   "outputs": [],
   "source": []
  },
  {
   "cell_type": "code",
   "execution_count": null,
   "id": "ff768c43",
   "metadata": {},
   "outputs": [],
   "source": []
  }
 ],
 "metadata": {
  "kernelspec": {
   "display_name": "Python 3 (ipykernel)",
   "language": "python",
   "name": "python3"
  },
  "language_info": {
   "codemirror_mode": {
    "name": "ipython",
    "version": 3
   },
   "file_extension": ".py",
   "mimetype": "text/x-python",
   "name": "python",
   "nbconvert_exporter": "python",
   "pygments_lexer": "ipython3",
   "version": "3.11.5"
  }
 },
 "nbformat": 4,
 "nbformat_minor": 5
}
